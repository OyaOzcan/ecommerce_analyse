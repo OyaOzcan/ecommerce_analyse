{
 "cells": [
  {
   "cell_type": "code",
   "execution_count": 1,
   "metadata": {},
   "outputs": [],
   "source": [
    "# 📦 Gerekli kütüphaneleri yükle\n",
    "import pandas as pd\n",
    "import numpy as np\n",
    "from sklearn.preprocessing import LabelEncoder\n"
   ]
  },
  {
   "cell_type": "code",
   "execution_count": 2,
   "metadata": {},
   "outputs": [],
   "source": [
    "# 📥 Veriyi oku\n",
    "df = pd.read_csv(\"ecommerce_clickstream_transactions.csv\")  # kendi yolunu yaz\n"
   ]
  },
  {
   "cell_type": "code",
   "execution_count": 3,
   "metadata": {},
   "outputs": [],
   "source": [
    "# 🕒 Timestamp sütununu datetime formatına çevir\n",
    "df['Timestamp'] = pd.to_datetime(df['Timestamp'])\n"
   ]
  },
  {
   "cell_type": "code",
   "execution_count": 4,
   "metadata": {},
   "outputs": [],
   "source": [
    "# 🎯 Sadece ürünle ilgili olan EventType'ları filtrele\n",
    "filtered = df[df[\"EventType\"].isin([\"product_view\", \"add_to_cart\", \"purchase\"])].copy()\n"
   ]
  },
  {
   "cell_type": "code",
   "execution_count": 5,
   "metadata": {},
   "outputs": [],
   "source": [
    "# ❌ ProductID olmayan satırları çıkar\n",
    "filtered.dropna(subset=[\"ProductID\"], inplace=True)\n"
   ]
  },
  {
   "cell_type": "code",
   "execution_count": 6,
   "metadata": {},
   "outputs": [],
   "source": [
    "# 🔢 UserID ve ProductID'yi sayısal hale getir (makine öğrenmesi için gerekli)\n",
    "user_encoder = LabelEncoder()\n",
    "product_encoder = LabelEncoder()\n",
    "\n",
    "filtered[\"UserID_enc\"] = user_encoder.fit_transform(filtered[\"UserID\"])\n",
    "filtered[\"ProductID_enc\"] = product_encoder.fit_transform(filtered[\"ProductID\"])\n"
   ]
  },
  {
   "cell_type": "code",
   "execution_count": 8,
   "metadata": {},
   "outputs": [],
   "source": [
    "# 🧱 Kullanıcı-Ürün çiftine göre davranışları say\n",
    "pivot_df = filtered.pivot_table(\n",
    "    index=[\"UserID_enc\", \"ProductID_enc\"],\n",
    "    columns=\"EventType\",        # product_view, add_to_cart, purchase\n",
    "    aggfunc=\"size\",             # her olaydan kaç kez yapmış?\n",
    "    fill_value=0                # olmayanlara 0 yaz\n",
    ").reset_index()\n"
   ]
  },
  {
   "cell_type": "code",
   "execution_count": 9,
   "metadata": {},
   "outputs": [],
   "source": [
    "# 🎯 Hedef sütunu: satın almış mı? → purchase sayısı 1 veya daha fazlaysa 1, yoksa 0\n",
    "pivot_df[\"label\"] = (pivot_df[\"purchase\"] > 0).astype(int)\n"
   ]
  },
  {
   "cell_type": "code",
   "execution_count": 10,
   "metadata": {},
   "outputs": [
    {
     "data": {
      "text/html": [
       "<div>\n",
       "<style scoped>\n",
       "    .dataframe tbody tr th:only-of-type {\n",
       "        vertical-align: middle;\n",
       "    }\n",
       "\n",
       "    .dataframe tbody tr th {\n",
       "        vertical-align: top;\n",
       "    }\n",
       "\n",
       "    .dataframe thead th {\n",
       "        text-align: right;\n",
       "    }\n",
       "</style>\n",
       "<table border=\"1\" class=\"dataframe\">\n",
       "  <thead>\n",
       "    <tr style=\"text-align: right;\">\n",
       "      <th>EventType</th>\n",
       "      <th>UserID_enc</th>\n",
       "      <th>ProductID_enc</th>\n",
       "      <th>add_to_cart</th>\n",
       "      <th>product_view</th>\n",
       "      <th>purchase</th>\n",
       "      <th>label</th>\n",
       "    </tr>\n",
       "  </thead>\n",
       "  <tbody>\n",
       "    <tr>\n",
       "      <th>0</th>\n",
       "      <td>0</td>\n",
       "      <td>100</td>\n",
       "      <td>1</td>\n",
       "      <td>0</td>\n",
       "      <td>0</td>\n",
       "      <td>0</td>\n",
       "    </tr>\n",
       "    <tr>\n",
       "      <th>1</th>\n",
       "      <td>0</td>\n",
       "      <td>188</td>\n",
       "      <td>1</td>\n",
       "      <td>0</td>\n",
       "      <td>0</td>\n",
       "      <td>0</td>\n",
       "    </tr>\n",
       "    <tr>\n",
       "      <th>2</th>\n",
       "      <td>0</td>\n",
       "      <td>386</td>\n",
       "      <td>0</td>\n",
       "      <td>1</td>\n",
       "      <td>0</td>\n",
       "      <td>0</td>\n",
       "    </tr>\n",
       "    <tr>\n",
       "      <th>3</th>\n",
       "      <td>0</td>\n",
       "      <td>1331</td>\n",
       "      <td>0</td>\n",
       "      <td>0</td>\n",
       "      <td>1</td>\n",
       "      <td>1</td>\n",
       "    </tr>\n",
       "    <tr>\n",
       "      <th>4</th>\n",
       "      <td>0</td>\n",
       "      <td>1403</td>\n",
       "      <td>1</td>\n",
       "      <td>0</td>\n",
       "      <td>0</td>\n",
       "      <td>0</td>\n",
       "    </tr>\n",
       "  </tbody>\n",
       "</table>\n",
       "</div>"
      ],
      "text/plain": [
       "EventType  UserID_enc  ProductID_enc  add_to_cart  product_view  purchase  \\\n",
       "0                   0            100            1             0         0   \n",
       "1                   0            188            1             0         0   \n",
       "2                   0            386            0             1         0   \n",
       "3                   0           1331            0             0         1   \n",
       "4                   0           1403            1             0         0   \n",
       "\n",
       "EventType  label  \n",
       "0              0  \n",
       "1              0  \n",
       "2              0  \n",
       "3              1  \n",
       "4              0  "
      ]
     },
     "execution_count": 10,
     "metadata": {},
     "output_type": "execute_result"
    }
   ],
   "source": [
    "# 👀 İlk 5 satırı gör\n",
    "pivot_df.head()\n"
   ]
  },
  {
   "cell_type": "code",
   "execution_count": 11,
   "metadata": {},
   "outputs": [],
   "source": [
    "# 📦 Makine öğrenmesi modelleri ve metrikler için kütüphaneleri yükle\n",
    "from sklearn.linear_model import LogisticRegression\n",
    "from sklearn.ensemble import RandomForestClassifier\n",
    "from sklearn.model_selection import train_test_split\n",
    "from sklearn.metrics import classification_report, confusion_matrix, accuracy_score\n"
   ]
  },
  {
   "cell_type": "code",
   "execution_count": 12,
   "metadata": {},
   "outputs": [],
   "source": [
    "# 🎯 Özellikler (bağımsız değişkenler) ve hedef (bağımlı değişken) ayrılıyor\n",
    "# Satın almayı tahmin etmek için 'product_view' ve 'add_to_cart' özelliklerini kullanıyoruz\n",
    "X = pivot_df[[\"product_view\", \"add_to_cart\"]]  # özellikler\n",
    "y = pivot_df[\"label\"]                          # hedef: satın almış mı? (0 veya 1)\n"
   ]
  },
  {
   "cell_type": "code",
   "execution_count": 13,
   "metadata": {},
   "outputs": [],
   "source": [
    "# 🔀 Eğitim ve test verisi olarak ayırıyoruz (%80 eğitim, %20 test)\n",
    "X_train, X_test, y_train, y_test = train_test_split(X, y, test_size=0.2, random_state=42)\n"
   ]
  },
  {
   "cell_type": "code",
   "execution_count": 14,
   "metadata": {},
   "outputs": [],
   "source": [
    "# ⚙️ MODEL 1: Lojistik Regresyon modeli tanımlanıyor ve eğitiliyor\n",
    "logreg = LogisticRegression()\n",
    "logreg.fit(X_train, y_train)\n",
    "\n",
    "# 🔮 Test verisi üzerinde tahmin yapılır\n",
    "y_pred_logreg = logreg.predict(X_test)\n"
   ]
  },
  {
   "cell_type": "code",
   "execution_count": 15,
   "metadata": {},
   "outputs": [],
   "source": [
    "# ⚙️ MODEL 2: Random Forest sınıflandırıcısı tanımlanıyor ve eğitiliyor\n",
    "rf = RandomForestClassifier(n_estimators=100, random_state=42)\n",
    "rf.fit(X_train, y_train)\n",
    "\n",
    "# 🔮 Test verisi üzerinde tahmin yapılır\n",
    "y_pred_rf = rf.predict(X_test)\n"
   ]
  },
  {
   "cell_type": "code",
   "execution_count": 16,
   "metadata": {},
   "outputs": [],
   "source": [
    "# 📈 Modellerin doğruluk, sınıflandırma raporu ve karışıklık matrisi (confusion matrix) hesaplanır\n",
    "results = {\n",
    "    \"Lojistik Regresyon\": {\n",
    "        \"Accuracy\": accuracy_score(y_test, y_pred_logreg),\n",
    "        \"Classification Report\": classification_report(y_test, y_pred_logreg, output_dict=True),\n",
    "        \"Confusion Matrix\": confusion_matrix(y_test, y_pred_logreg)\n",
    "    },\n",
    "    \"Random Forest\": {\n",
    "        \"Accuracy\": accuracy_score(y_test, y_pred_rf),\n",
    "        \"Classification Report\": classification_report(y_test, y_pred_rf, output_dict=True),\n",
    "        \"Confusion Matrix\": confusion_matrix(y_test, y_pred_rf)\n",
    "    }\n",
    "}\n"
   ]
  },
  {
   "cell_type": "code",
   "execution_count": 18,
   "metadata": {},
   "outputs": [
    {
     "data": {
      "text/html": [
       "<div>\n",
       "<style scoped>\n",
       "    .dataframe tbody tr th:only-of-type {\n",
       "        vertical-align: middle;\n",
       "    }\n",
       "\n",
       "    .dataframe tbody tr th {\n",
       "        vertical-align: top;\n",
       "    }\n",
       "\n",
       "    .dataframe thead th {\n",
       "        text-align: right;\n",
       "    }\n",
       "</style>\n",
       "<table border=\"1\" class=\"dataframe\">\n",
       "  <thead>\n",
       "    <tr style=\"text-align: right;\">\n",
       "      <th></th>\n",
       "      <th>Model</th>\n",
       "      <th>Accuracy</th>\n",
       "    </tr>\n",
       "  </thead>\n",
       "  <tbody>\n",
       "    <tr>\n",
       "      <th>0</th>\n",
       "      <td>Lojistik Regresyon</td>\n",
       "      <td>0.99922</td>\n",
       "    </tr>\n",
       "    <tr>\n",
       "      <th>1</th>\n",
       "      <td>Random Forest</td>\n",
       "      <td>0.99922</td>\n",
       "    </tr>\n",
       "  </tbody>\n",
       "</table>\n",
       "</div>"
      ],
      "text/plain": [
       "                Model  Accuracy\n",
       "0  Lojistik Regresyon   0.99922\n",
       "1       Random Forest   0.99922"
      ]
     },
     "execution_count": 18,
     "metadata": {},
     "output_type": "execute_result"
    }
   ],
   "source": [
    "# 🎯 Doğruluk skorlarını tablo halinde özetleyelim\n",
    "import pandas as pd\n",
    "summary_df = pd.DataFrame({\n",
    "    \"Model\": [\"Lojistik Regresyon\", \"Random Forest\"],\n",
    "    \"Accuracy\": [results[\"Lojistik Regresyon\"][\"Accuracy\"], results[\"Random Forest\"][\"Accuracy\"]]\n",
    "})\n",
    "\n",
    "# ✅ Doğrudan notebook çıktısı için:\n",
    "summary_df\n"
   ]
  },
  {
   "cell_type": "code",
   "execution_count": 19,
   "metadata": {},
   "outputs": [
    {
     "name": "stdout",
     "output_type": "stream",
     "text": [
      "🔍 Lojistik Regresyon Sonuçları\n",
      "----------------------------------------\n",
      "Confusion Matrix:\n",
      "[[4262    0]\n",
      " [   5 2142]]\n",
      "\n",
      "Classification Report:\n",
      "              precision    recall  f1-score   support\n",
      "\n",
      "           0       1.00      1.00      1.00      4262\n",
      "           1       1.00      1.00      1.00      2147\n",
      "\n",
      "    accuracy                           1.00      6409\n",
      "   macro avg       1.00      1.00      1.00      6409\n",
      "weighted avg       1.00      1.00      1.00      6409\n",
      "\n"
     ]
    }
   ],
   "source": [
    "# 🎯 Lojistik Regresyon için confusion matrix ve classification report\n",
    "print(\"🔍 Lojistik Regresyon Sonuçları\")\n",
    "print(\"-\" * 40)\n",
    "\n",
    "# Confusion Matrix\n",
    "print(\"Confusion Matrix:\")\n",
    "print(confusion_matrix(y_test, y_pred_logreg))\n",
    "\n",
    "# Classification Report (precision, recall, f1-score, support)\n",
    "print(\"\\nClassification Report:\")\n",
    "print(classification_report(y_test, y_pred_logreg))\n"
   ]
  },
  {
   "cell_type": "code",
   "execution_count": 20,
   "metadata": {},
   "outputs": [
    {
     "name": "stdout",
     "output_type": "stream",
     "text": [
      "\n",
      "\n",
      "🔍 Random Forest Sonuçları\n",
      "----------------------------------------\n",
      "Confusion Matrix:\n",
      "[[4262    0]\n",
      " [   5 2142]]\n",
      "\n",
      "Classification Report:\n",
      "              precision    recall  f1-score   support\n",
      "\n",
      "           0       1.00      1.00      1.00      4262\n",
      "           1       1.00      1.00      1.00      2147\n",
      "\n",
      "    accuracy                           1.00      6409\n",
      "   macro avg       1.00      1.00      1.00      6409\n",
      "weighted avg       1.00      1.00      1.00      6409\n",
      "\n"
     ]
    }
   ],
   "source": [
    "# 🎯 Random Forest için confusion matrix ve classification report\n",
    "print(\"\\n\\n🔍 Random Forest Sonuçları\")\n",
    "print(\"-\" * 40)\n",
    "\n",
    "# Confusion Matrix\n",
    "print(\"Confusion Matrix:\")\n",
    "print(confusion_matrix(y_test, y_pred_rf))\n",
    "\n",
    "# Classification Report\n",
    "print(\"\\nClassification Report:\")\n",
    "print(classification_report(y_test, y_pred_rf))\n"
   ]
  }
 ],
 "metadata": {
  "kernelspec": {
   "display_name": "Python 3",
   "language": "python",
   "name": "python3"
  },
  "language_info": {
   "codemirror_mode": {
    "name": "ipython",
    "version": 3
   },
   "file_extension": ".py",
   "mimetype": "text/x-python",
   "name": "python",
   "nbconvert_exporter": "python",
   "pygments_lexer": "ipython3",
   "version": "3.9.12"
  }
 },
 "nbformat": 4,
 "nbformat_minor": 2
}
